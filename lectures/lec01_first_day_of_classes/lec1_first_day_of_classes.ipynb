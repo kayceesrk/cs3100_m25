{
 "cells": [
  {
   "cell_type": "markdown",
   "metadata": {
    "slideshow": {
     "slide_type": "slide"
    }
   },
   "source": [
    "<div style=\"text-align:center\">\n",
    "<h1> CS3100 Paradigms of Programming </h1>\n",
    "<h2> Monsoon 2020 </h2>\n",
    "</div>"
   ]
  },
  {
   "cell_type": "markdown",
   "metadata": {
    "slideshow": {
     "slide_type": "slide"
    }
   },
   "source": [
    "## Who am I \n",
    "\n",
    "* Your Instructor: KC Sivaramakrishnan\n",
    "* I go by \"KC\""
   ]
  },
  {
   "cell_type": "markdown",
   "metadata": {
    "slideshow": {
     "slide_type": "slide"
    }
   },
   "source": [
    "## Single instruction programming language\n",
    "\n",
    "```c\n",
    "subleq a, b, c   // *b = *b - *a\n",
    "                 // if (*b ≤ 0) goto c\n",
    "```"
   ]
  },
  {
   "cell_type": "markdown",
   "metadata": {
    "slideshow": {
     "slide_type": "fragment"
    }
   },
   "source": [
    "If the branch target is the next instruction, then drop the third argument.\n",
    "\n",
    "    subleq a, b\n",
    "    \n",
    "is equivalent to\n",
    "\n",
    "        subleq a, b, L1\n",
    "    L1: ..."
   ]
  },
  {
   "cell_type": "markdown",
   "metadata": {
    "slideshow": {
     "slide_type": "slide"
    }
   },
   "source": [
    "## What does this program do?\n",
    "\n",
    "```c\n",
    "// initially *Z = 0\n",
    "subleq a, Z\n",
    "subleq Z, b\n",
    "subleq Z, Z\n",
    "```"
   ]
  },
  {
   "cell_type": "markdown",
   "metadata": {
    "slideshow": {
     "slide_type": "slide"
    }
   },
   "source": [
    "## What does this program do?\n",
    "\n",
    "```c\n",
    "// initially *Z = 0\n",
    "subleq a, Z // *Z = *Z - *a \n",
    "            // *Z = -(*a)\n",
    "subleq Z, b // *b = *b - *Z\n",
    "            // *b = *b - (-*a) \n",
    "            // *b = *b + *a\n",
    "subleq Z, Z // *Z = *Z - *Z\n",
    "            // *Z = 0\n",
    "```"
   ]
  },
  {
   "cell_type": "markdown",
   "metadata": {
    "slideshow": {
     "slide_type": "fragment"
    }
   },
   "source": [
    "**Answer:** *b = *a + *b (Addition)"
   ]
  },
  {
   "cell_type": "markdown",
   "metadata": {
    "slideshow": {
     "slide_type": "slide"
    }
   },
   "source": [
    "## What does this program do?\n",
    "\n",
    "```c\n",
    "// initially *Z = 0\n",
    "subleq b, b\n",
    "subleq a, Z\n",
    "subleq Z, b\n",
    "subleq Z, Z\n",
    "```"
   ]
  },
  {
   "cell_type": "markdown",
   "metadata": {
    "slideshow": {
     "slide_type": "fragment"
    }
   },
   "source": [
    "**Answer:** *b = *a (Assignment)\n",
    "\n",
    "Take my word for it :-)"
   ]
  },
  {
   "cell_type": "markdown",
   "metadata": {
    "slideshow": {
     "slide_type": "slide"
    }
   },
   "source": [
    "## In fact, this one instruction PL is as powerful as *every* PL.\n",
    "\n",
    "* But good luck writing quicksort in this PL\n",
    "  + let alone Swiggy\n",
    "  + ..or Facebook\n",
    "  + ..or Linux\n",
    "  + ..or Grand Theft Auto V."
   ]
  },
  {
   "cell_type": "markdown",
   "metadata": {
    "slideshow": {
     "slide_type": "notes"
    }
   },
   "source": [
    "The `subleq` instruction is from [One Instruction Set Computer](https://en.wikipedia.org/wiki/One_instruction_set_computer). If you thought such a machine is hypothetical, think again. It has been shown that the [x86 `mov` instruction is turing complete](https://esolangs.org/wiki/Mov) and is as powerful as every programming language. "
   ]
  },
  {
   "cell_type": "markdown",
   "metadata": {
    "slideshow": {
     "slide_type": "slide"
    }
   },
   "source": [
    "## So why study programming languages?\n",
    "\n",
    "* Analogy - studying a foreign language\n",
    "  + Learn about another culture; incorporate aspects into your own life\n",
    "  + Shed preconceptions and prejudices about others\n",
    "  + Understand your native language better\n",
    "\n",
    "<center>\n",
    "    \n",
    "<img src=\"images/hello-different-languages.jpg\" alt=\"World Languages\" height=\"200\" width=\"350\">\n",
    "</center>"
   ]
  },
  {
   "cell_type": "markdown",
   "metadata": {
    "slideshow": {
     "slide_type": "slide"
    }
   },
   "source": [
    "# The Goal of CS3100\n",
    "\n",
    "<div style=\"text-align:center\">\n",
    "<h2 style=\"color:blue\"> Become a better programer <h2>\n",
    "<h2> through the study of <h2>\n",
    "<h2 style=\"color:green\"> programming languages <h2>\n",
    "</div>"
   ]
  },
  {
   "cell_type": "markdown",
   "metadata": {
    "slideshow": {
     "slide_type": "slide"
    }
   },
   "source": [
    "## What is \"Programming Languages\"?\n",
    "\n",
    "<div style=\"text-align:center\">\n",
    "\n",
    "<br/>\n",
    "\n",
    "<h3>Programming Languages : Java</h3>\n",
    "<h3>as</h3>\n",
    "<h3>Linguistics : French</h3>\n",
    "</div>\n"
   ]
  },
  {
   "cell_type": "markdown",
   "metadata": {
    "slideshow": {
     "slide_type": "fragment"
    }
   },
   "source": [
    "\n",
    "**Programming Languages:** Language design, implementation, semantics, compilers, interpreters, runtime systems, programming methodology, testing, verification, security, reliability ...\n",
    "\n",
    "Adjacent to **Software Engineering** in the CS family tree."
   ]
  },
  {
   "cell_type": "markdown",
   "metadata": {
    "slideshow": {
     "slide_type": "slide"
    }
   },
   "source": [
    "### Linguistic Relativity\n",
    "\n",
    "```\n",
    "The principle of linguistic relativity holds that the \n",
    "structure of a language affects its speakers world view \n",
    "or cognition.\n",
    "```\n",
    "\n",
    "Or more simply:\n",
    "\n",
    "<center>\n",
    "    <i> Programming Language shapes Programming Thought </i>\n",
    "</center>\n",
    "\n",
    "Language affects how ideas and computation are expressed.\n",
    "\n",
    "**In this course, you will learn a new PL concepts which will change the way you think about programming.**"
   ]
  },
  {
   "cell_type": "markdown",
   "metadata": {
    "slideshow": {
     "slide_type": "slide"
    }
   },
   "source": [
    "## Alan J. Perlis\n",
    "\n",
    "<table>\n",
    "<tr>\n",
    "<td><img src=\"images/alan-perlis.jpg\"></td>\n",
    "    <td><h1>\"A language that doesn't affect the way you <br>think about programming is not worth knowing\"</h1></td>\n",
    "</tr>\n",
    "</table>\n",
    "\n",
    "First recipient of the Turing Award\n",
    "for his “influence in the area of advanced programming\n",
    "techniques and compiler construction”"
   ]
  },
  {
   "cell_type": "markdown",
   "metadata": {
    "slideshow": {
     "slide_type": "slide"
    }
   },
   "source": [
    "## New languages come (and go ..)\n",
    "\n",
    "* In this course, the aim is not to teach you one programming language\n",
    "  + though we will do that invariably\n",
    "* There was no \n",
    "  + Java 25 years ago\n",
    "  + C# 20 years ago\n",
    "  + Rust 10 years ago\n",
    "  + WebAssembly 2 years ago\n",
    "* _What may come next?_"
   ]
  },
  {
   "cell_type": "markdown",
   "metadata": {
    "slideshow": {
     "slide_type": "slide"
    }
   },
   "source": [
    "## What is CS3100 about?\n",
    "\n",
    "* Concepts in programming languages\n",
    "* Programming paradigms\n",
    "* Language design and implementation"
   ]
  },
  {
   "cell_type": "markdown",
   "metadata": {
    "slideshow": {
     "slide_type": "slide"
    }
   },
   "source": [
    "## Goal: Learn the Anatomy of PL\n",
    "\n",
    "* What makes a programming language?\n",
    "* Which features are *fundamental* and which are *syntactic sugar*?"
   ]
  },
  {
   "cell_type": "markdown",
   "metadata": {
    "slideshow": {
     "slide_type": "slide"
    }
   },
   "source": [
    "## Goal: Learn New Languages / Constructs\n",
    "\n",
    "New ways to *describe* and *organize* computation, to create programs that are:\n",
    "\n",
    "* Correct\n",
    "* Readable\n",
    "* Extendable\n",
    "* Reusable"
   ]
  },
  {
   "cell_type": "markdown",
   "metadata": {
    "slideshow": {
     "slide_type": "slide"
    }
   },
   "source": [
    "## Goal: How to Design new Languages\n",
    "\n",
    "New hot lanuages being designed in industry as we speak:\n",
    "\n",
    "* Flow, React @ Facebook\n",
    "* Rust @ Mozilla\n",
    "* TypeScript @ Microsoft\n",
    "* Swift @ Apple\n",
    "* WebAssembly @ Google + Mozilla + Microsoft\n",
    "\n"
   ]
  },
  {
   "cell_type": "markdown",
   "metadata": {
    "slideshow": {
     "slide_type": "slide"
    }
   },
   "source": [
    "## Goal: How to Design new Languages\n",
    "\n",
    "Buried in every large system is a (domain-specific) language\n",
    "\n",
    "* DB: SQL\n",
    "* Word, Excel: Formulas, Macros, VBScript\n",
    "* Emacs: LISP\n",
    "* Latex, shell scripts, makefiles, …\n",
    "* All the smart contract languages on *Blockchains*.\n",
    "\n",
    "If you work on a large system, you **will** design a new PL!"
   ]
  },
  {
   "cell_type": "markdown",
   "metadata": {
    "slideshow": {
     "slide_type": "slide"
    }
   },
   "source": [
    "## Goal: Enable You To Choose Right PL\n",
    "\n",
    "But isn’t that decided by\n",
    "\n",
    "* Libraries\n",
    "* Standards\n",
    "* Hiring\n",
    "* Your Boss?!\n",
    "\n",
    "**My goal:** Educate tomorrow’s leaders so you’ll make **informed** choices."
   ]
  },
  {
   "cell_type": "markdown",
   "metadata": {
    "slideshow": {
     "slide_type": "slide"
    }
   },
   "source": [
    "## Course Syllabus\n",
    "\n",
    "* **Functional Programming:** OCaml & Lambda Calculus\n",
    "* **Logic Programming:** Prolog\n",
    "* **Parallel Programming:** (in) OCaml"
   ]
  },
  {
   "cell_type": "markdown",
   "metadata": {
    "slideshow": {
     "slide_type": "slide"
    }
   },
   "source": [
    "## Are OCaml & Prolog the best choices?\n",
    "\n",
    "Asking\n",
    "\n",
    "<center> <h3> What is the best programming language? </h3> </center>\n",
    "\n",
    "is similar to asking\n",
    "\n",
    "<center> <h3> What is the best car? </h3> </center>\n",
    "\n",
    "</br> </br>\n",
    "\n",
    "<center> <h3> What is the best shoe? </h3> </center>"
   ]
  },
  {
   "cell_type": "markdown",
   "metadata": {
    "slideshow": {
     "slide_type": "slide"
    }
   },
   "source": [
    "## Cars/Shoes\n",
    "\n",
    "* Different cars are good at rather different things:\n",
    "  + Winning a Formula 1 race\n",
    "  + Taking kids to football practice\n",
    "  + off-roading\n",
    "  + Hauling a mattress\n",
    "* Same with shoes:\n",
    "  + Playing cricket\n",
    "  + Going to the beach\n",
    "  + Going to a formal dinner"
   ]
  },
  {
   "cell_type": "markdown",
   "metadata": {
    "slideshow": {
     "slide_type": "slide"
    }
   },
   "source": [
    "## More on Cars\n",
    "\n",
    "* A good mechanic might have a specialty, but also understands how all cars (not a particular make/model) work (c.f. developers)\n",
    "  +  Would generally not refuse to work on a model they don’t personally like\n",
    "  +  Would _definitely_ not refuse to work on a car based on the color"
   ]
  },
  {
   "cell_type": "markdown",
   "metadata": {
    "slideshow": {
     "slide_type": "slide"
    }
   },
   "source": [
    "## More on Cars\n",
    "\n",
    "* A good mechanical engineer really knows how cars work, how to get the most out of them, and how to design better ones (c.f. compiler engineers / Programming language specialists)\n",
    "  + Though probably works on one particular car at any given time"
   ]
  },
  {
   "cell_type": "markdown",
   "metadata": {
    "slideshow": {
     "slide_type": "slide"
    }
   },
   "source": [
    "## More on Cars\n",
    "  \n",
    "* When first learning to fix (or build) a car, probably shouldn’t start with a modern, fancy, high-tech model (c.f. you)\n",
    "  + Why get bogged down in specialized features?"
   ]
  },
  {
   "cell_type": "markdown",
   "metadata": {
    "slideshow": {
     "slide_type": "slide"
    }
   },
   "source": [
    "## Five aspects of learning a PL\n",
    "\n",
    "1. **Syntax:** How do you write language constructs?\n",
    "2. **Semantics:** What do programs mean? (Type checking, evaluation rules)\n",
    "3. **Idioms:** What are typical patterns for using language features to express your computation?\n",
    "4. **Libraries:** What facilities does the language (or a third-party project) provide as “standard”? (E.g., file access, data structures)\n",
    "5. **Tools:** What do language implementations provide to make your job easier? (E.g., top-level, debugger, GUI editor, ...)\n",
    "\n",
    "\n",
    "* Breaking a new PL down into these pieces makes it easier to learn."
   ]
  },
  {
   "cell_type": "markdown",
   "metadata": {
    "slideshow": {
     "slide_type": "slide"
    }
   },
   "source": [
    "## Our Focus\n",
    "\n",
    "We focus on **semantics** and **idioms**\n",
    "\n",
    "* **Semantics:** Correct reasoning about programs, interfaces, and compilers requires a precise knowledge of semantics\n",
    "  + Not “I feel that conditional expressions might work like this”\n",
    "  + Not “I like curly braces more than parentheses”\n",
    "  + Much of software development is  precise interfaces\n",
    "* **Idioms:** Common _patterns_ of programming\n",
    "  + Best to see in multiple settings, including where they shine\n",
    "  + See Java in a clearer light even if I never show you Java\n",
    "\n"
   ]
  },
  {
   "cell_type": "markdown",
   "metadata": {
    "slideshow": {
     "slide_type": "slide"
    }
   },
   "source": [
    "## Consider Hamlet ... \n",
    "\n",
    "* The play Hamlet:\n",
    "  + Is a beautiful work of art\n",
    "  + Teaches deep, eternal truths\n",
    "  + Is the source of some well-known sayings\n",
    "  + Makes you a better person\n",
    "* Continues to be studied centuries later even though:\n",
    "  + The syntax is really annoying to many\n",
    "  + There are more popular movies with some of the same lessons\n",
    "  + Reading Hamlet will not get you a summer internship"
   ]
  },
  {
   "cell_type": "markdown",
   "metadata": {
    "slideshow": {
     "slide_type": "slide"
    }
   },
   "source": [
    "## Not our focus\n",
    "\n",
    "**Libraries** and **tools** are a secondary: throughout your career you’ll learn new ones on the job every year\n",
    "\n",
    "* **Syntax** is a \"fact\"; almost always boring\n",
    "  + People obsess over subjective preferences {yawn}\n",
    "  + **Class rule**: We don’t complain about syntax"
   ]
  },
  {
   "cell_type": "markdown",
   "metadata": {
    "slideshow": {
     "slide_type": "slide"
    }
   },
   "source": [
    "## Course Logistics\n",
    "\n",
    "### Course website \n",
    "\n",
    "\"* http://kcsrk.info/cs3100_m25\n",
    "\",\n",
    "  + Schedule, Lecture Notes, Assignments, etc. \n",
    "    \"* Course Slack: https://cs3100m25iitm.slack.com/. Join using {your_email_id}@smail.iitm.ac.in!\n",
    "\",\n",
    "\n",
    "### Lectures\n",
    "\n",
    "* Delivered through interactive Jupyter notebooks.\n",
    "    \"* Instruction for setting up available on [course website](http://kcsrk.info/cs3100_m25/resources/).\n",
    "\",\n",
    "* **Highly recommend that you practice in the notebooks**"
   ]
  },
  {
   "cell_type": "markdown",
   "metadata": {
    "slideshow": {
     "slide_type": "slide"
    }
   },
   "source": [
    "## Grading\n",
    "\n",
    "* End Sem = 50%\n",
    "* Programming Assignments = 7 * 7% = 49%\n",
    "  + Programming assignments done through Jupyter notebooks.\n",
    "* Class participation = 1%"
   ]
  },
  {
   "cell_type": "markdown",
   "metadata": {
    "slideshow": {
     "slide_type": "slide"
    }
   },
   "source": [
    "## Plagiarism\n",
    "\n",
    "* Will strictly follow institute policy for plagiarism\n",
    "  + 0% for that assignment.\n",
    "  + \"U\" grade for repeated plagiarism.\n",
    "* We use MOSS, CloneChecker and XXX for plagiarism detection.\n",
    "  + Have all of the submissions from previous years to check against. "
   ]
  },
  {
   "cell_type": "markdown",
   "metadata": {
    "slideshow": {
     "slide_type": "slide"
    }
   },
   "source": [
    "## Software\n",
    "\n",
    "    \"* We will use OCaml and Prolog in this course. The installation information is available in the [course webpage](http://kcsrk.info/cs3100_m25/resources/).\n",
    "\",\n",
    "* Docker image is available for lectures in Jupyter notebooks.\n",
    "  + Get familiar with basic Docker commands. It is likely that you will use them in the future.\n",
    "    \"* Get a local installation of OCaml on your machine ([instructions](http://kcsrk.info/cs3100_m25/resources/)).\n",
    "\",\n",
    "  + Get familiar with `utop` (a great top-level for OCaml), \n",
    "  + `merlin` (IDE server for OCaml that works with vim, emacs, vscode, sublime)\n",
    "  + `dune` (a build tool for OCaml)."
   ]
  },
  {
   "cell_type": "markdown",
   "metadata": {
    "slideshow": {
     "slide_type": "slide"
    }
   },
   "source": [
    "<div style=\"text-align:center\">\n",
    "    <h1> <i> Fin. </i> </h1>\n",
    "</div>"
   ]
  }
 ],
 "metadata": {
  "celltoolbar": "Slideshow",
  "kernelspec": {
   "display_name": "OCaml 4.14",
   "language": "OCaml",
   "name": "ocaml-jupyter"
  },
  "language_info": {
   "codemirror_mode": "text/x-ocaml",
   "file_extension": ".ml",
   "mimetype": "text/x-ocaml",
   "name": "OCaml",
   "nbconverter_exporter": null,
   "pygments_lexer": "OCaml",
   "version": "4.14.2"
  }
 },
 "nbformat": 4,
 "nbformat_minor": 4
}
